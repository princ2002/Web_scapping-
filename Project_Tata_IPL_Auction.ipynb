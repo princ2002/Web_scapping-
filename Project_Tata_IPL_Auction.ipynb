{
 "cells": [
  {
   "cell_type": "code",
   "execution_count": 351,
   "metadata": {},
   "outputs": [],
   "source": [
    "import requests\n",
    "from bs4 import BeautifulSoup\n",
    "import pandas as pd"
   ]
  },
  {
   "cell_type": "code",
   "execution_count": 352,
   "metadata": {},
   "outputs": [
    {
     "name": "stdout",
     "output_type": "stream",
     "text": [
      "200\n"
     ]
    }
   ],
   "source": [
    "#url = 'https://www.iplt20.com/auction/2022'\n",
    "url = 'https://www.iplt20.com/auction/2021'\n",
    "r = requests.get(url)\n",
    "print(r.status_code) #To check the access"
   ]
  },
  {
   "cell_type": "code",
   "execution_count": 353,
   "metadata": {},
   "outputs": [],
   "source": [
    "soup = BeautifulSoup(r.text,'lxml')\n",
    "#print(soup)"
   ]
  },
  {
   "cell_type": "code",
   "execution_count": 354,
   "metadata": {},
   "outputs": [],
   "source": [
    "table = soup.find(\"table\",class_=\"ih-td-tab auction-tbl\")\n",
    "#print(table)"
   ]
  },
  {
   "cell_type": "code",
   "execution_count": 355,
   "metadata": {},
   "outputs": [],
   "source": [
    "headers = table.find_all(\"th\")\n",
    "#print(headers)"
   ]
  },
  {
   "cell_type": "code",
   "execution_count": 356,
   "metadata": {},
   "outputs": [
    {
     "name": "stdout",
     "output_type": "stream",
     "text": [
      "TEAM\n",
      "FUNDS REMAINING\n",
      "OVERSEAS PLAYERS \n",
      "TOTAL PLAYERS\n"
     ]
    }
   ],
   "source": [
    "for i in headers:\n",
    "    print(i.text)"
   ]
  },
  {
   "cell_type": "code",
   "execution_count": 357,
   "metadata": {},
   "outputs": [
    {
     "name": "stdout",
     "output_type": "stream",
     "text": [
      "['TEAM', 'FUNDS REMAINING', 'OVERSEAS PLAYERS ', 'TOTAL PLAYERS']\n"
     ]
    }
   ],
   "source": [
    "titles = []\n",
    "\n",
    "for i in headers:\n",
    "    title = i.text#.strip()\n",
    "    titles.append(title)\n",
    "\n",
    "print(titles)"
   ]
  },
  {
   "cell_type": "code",
   "execution_count": 358,
   "metadata": {},
   "outputs": [
    {
     "data": {
      "text/html": [
       "<div>\n",
       "<style scoped>\n",
       "    .dataframe tbody tr th:only-of-type {\n",
       "        vertical-align: middle;\n",
       "    }\n",
       "\n",
       "    .dataframe tbody tr th {\n",
       "        vertical-align: top;\n",
       "    }\n",
       "\n",
       "    .dataframe thead th {\n",
       "        text-align: right;\n",
       "    }\n",
       "</style>\n",
       "<table border=\"1\" class=\"dataframe\">\n",
       "  <thead>\n",
       "    <tr style=\"text-align: right;\">\n",
       "      <th></th>\n",
       "      <th>TEAM</th>\n",
       "      <th>FUNDS REMAINING</th>\n",
       "      <th>OVERSEAS PLAYERS</th>\n",
       "      <th>TOTAL PLAYERS</th>\n",
       "    </tr>\n",
       "  </thead>\n",
       "  <tbody>\n",
       "  </tbody>\n",
       "</table>\n",
       "</div>"
      ],
      "text/plain": [
       "Empty DataFrame\n",
       "Columns: [TEAM, FUNDS REMAINING, OVERSEAS PLAYERS , TOTAL PLAYERS]\n",
       "Index: []"
      ]
     },
     "execution_count": 358,
     "metadata": {},
     "output_type": "execute_result"
    }
   ],
   "source": [
    "df = pd.DataFrame(columns = titles)\n",
    "df"
   ]
  },
  {
   "cell_type": "code",
   "execution_count": 359,
   "metadata": {},
   "outputs": [],
   "source": [
    "rows = table.find_all(\"tr\")\n",
    "#print(rows)"
   ]
  },
  {
   "cell_type": "code",
   "execution_count": 360,
   "metadata": {},
   "outputs": [
    {
     "name": "stdout",
     "output_type": "stream",
     "text": [
      "['\\n\\n\\n\\n\\nChennai Super Kings\\n\\n', '₹2,55,00,000', '8', '25']\n",
      "['\\n\\n\\n\\n\\nDelhi Capitals\\n\\n', '₹2,15,00,000', '8', '25']\n",
      "['\\n\\n\\n\\n\\nKolkata Knight Riders\\n\\n', '₹3,20,00,000', '8', '25']\n",
      "['\\n\\n\\n\\n\\nMumbai Indians\\n\\n', '₹3,65,00,000', '8', '25']\n",
      "['\\n\\n\\n\\n\\nPunjab Kings\\n\\n', '₹18,80,00,000', '8', '25']\n",
      "['\\n\\n\\n\\n\\nRajasthan Royals\\n\\n', '₹13,65,00,000', '8', '24']\n",
      "['\\n\\n\\n\\n\\nRoyal Challengers Bangalore\\n\\n', '₹35,00,000', '8', '22']\n",
      "['\\n\\n\\n\\n\\nSunrisers Hyderabad\\n\\n', '₹6,95,00,000', '8', '25']\n"
     ]
    }
   ],
   "source": [
    "data_list = []\n",
    "\n",
    "for i in rows[1:]:\n",
    "    data = i.find_all('td')\n",
    "   #print(data)\n",
    "    row = [j.text for j in data]\n",
    "    data_list.append(row)\n",
    "    #print(row)\n",
    "    #data_list.append(row)\n",
    "    \n",
    "for row in data_list:\n",
    "    print(row)\n",
    "#print(data_list)"
   ]
  },
  {
   "cell_type": "code",
   "execution_count": 361,
   "metadata": {},
   "outputs": [
    {
     "name": "stdout",
     "output_type": "stream",
     "text": [
      "['Chennai Super Kings', '₹2,55,00,000', '8', '25']\n",
      "['Delhi Capitals', '₹2,15,00,000', '8', '25']\n",
      "['Kolkata Knight Riders', '₹3,20,00,000', '8', '25']\n",
      "['Mumbai Indians', '₹3,65,00,000', '8', '25']\n",
      "['Punjab Kings', '₹18,80,00,000', '8', '25']\n",
      "['Rajasthan Royals', '₹13,65,00,000', '8', '24']\n",
      "['Royal Challengers Bangalore', '₹35,00,000', '8', '22']\n",
      "['Sunrisers Hyderabad', '₹6,95,00,000', '8', '25']\n"
     ]
    }
   ],
   "source": [
    "data_list = []\n",
    "\n",
    "for row in rows[1:]:\n",
    "    row_data = []\n",
    "    cells = row.find_all('td')\n",
    "    for cell in cells:\n",
    "        row_data.append(cell.text.strip())\n",
    "    data_list.append(row_data)\n",
    "\n",
    "# Print the extracted data\n",
    "for row in data_list:\n",
    "    print(row)\n",
    "    \n",
    "\n"
   ]
  },
  {
   "cell_type": "code",
   "execution_count": 362,
   "metadata": {},
   "outputs": [
    {
     "name": "stdout",
     "output_type": "stream",
     "text": [
      "                          TEAM FUNDS REMAINING OVERSEAS PLAYERS  TOTAL PLAYERS\n",
      "0          Chennai Super Kings    ₹2,55,00,000                 8            25\n",
      "1               Delhi Capitals    ₹2,15,00,000                 8            25\n",
      "2        Kolkata Knight Riders    ₹3,20,00,000                 8            25\n",
      "3               Mumbai Indians    ₹3,65,00,000                 8            25\n",
      "4                 Punjab Kings   ₹18,80,00,000                 8            25\n",
      "5             Rajasthan Royals   ₹13,65,00,000                 8            24\n",
      "6  Royal Challengers Bangalore      ₹35,00,000                 8            22\n",
      "7          Sunrisers Hyderabad    ₹6,95,00,000                 8            25\n"
     ]
    }
   ],
   "source": [
    "df = pd.DataFrame(data_list,columns= titles)\n",
    "print(df)"
   ]
  },
  {
   "cell_type": "code",
   "execution_count": 363,
   "metadata": {},
   "outputs": [
    {
     "data": {
      "text/html": [
       "<div>\n",
       "<style scoped>\n",
       "    .dataframe tbody tr th:only-of-type {\n",
       "        vertical-align: middle;\n",
       "    }\n",
       "\n",
       "    .dataframe tbody tr th {\n",
       "        vertical-align: top;\n",
       "    }\n",
       "\n",
       "    .dataframe thead th {\n",
       "        text-align: right;\n",
       "    }\n",
       "</style>\n",
       "<table border=\"1\" class=\"dataframe\">\n",
       "  <thead>\n",
       "    <tr style=\"text-align: right;\">\n",
       "      <th></th>\n",
       "      <th>team</th>\n",
       "      <th>funds_remaining</th>\n",
       "      <th>overseas_players_</th>\n",
       "      <th>total_players</th>\n",
       "    </tr>\n",
       "  </thead>\n",
       "  <tbody>\n",
       "    <tr>\n",
       "      <th>0</th>\n",
       "      <td>Chennai Super Kings</td>\n",
       "      <td>₹2,55,00,000</td>\n",
       "      <td>8</td>\n",
       "      <td>25</td>\n",
       "    </tr>\n",
       "    <tr>\n",
       "      <th>1</th>\n",
       "      <td>Delhi Capitals</td>\n",
       "      <td>₹2,15,00,000</td>\n",
       "      <td>8</td>\n",
       "      <td>25</td>\n",
       "    </tr>\n",
       "    <tr>\n",
       "      <th>2</th>\n",
       "      <td>Kolkata Knight Riders</td>\n",
       "      <td>₹3,20,00,000</td>\n",
       "      <td>8</td>\n",
       "      <td>25</td>\n",
       "    </tr>\n",
       "    <tr>\n",
       "      <th>3</th>\n",
       "      <td>Mumbai Indians</td>\n",
       "      <td>₹3,65,00,000</td>\n",
       "      <td>8</td>\n",
       "      <td>25</td>\n",
       "    </tr>\n",
       "    <tr>\n",
       "      <th>4</th>\n",
       "      <td>Punjab Kings</td>\n",
       "      <td>₹18,80,00,000</td>\n",
       "      <td>8</td>\n",
       "      <td>25</td>\n",
       "    </tr>\n",
       "  </tbody>\n",
       "</table>\n",
       "</div>"
      ],
      "text/plain": [
       "                    team funds_remaining overseas_players_ total_players\n",
       "0    Chennai Super Kings    ₹2,55,00,000                 8            25\n",
       "1         Delhi Capitals    ₹2,15,00,000                 8            25\n",
       "2  Kolkata Knight Riders    ₹3,20,00,000                 8            25\n",
       "3         Mumbai Indians    ₹3,65,00,000                 8            25\n",
       "4           Punjab Kings   ₹18,80,00,000                 8            25"
      ]
     },
     "execution_count": 363,
     "metadata": {},
     "output_type": "execute_result"
    }
   ],
   "source": [
    "df.columns = df.columns.str.lower()\n",
    "df.columns = df.columns.str.replace(' ','_')\n",
    "df.head()"
   ]
  },
  {
   "cell_type": "code",
   "execution_count": 364,
   "metadata": {},
   "outputs": [
    {
     "data": {
      "text/html": [
       "<div>\n",
       "<style scoped>\n",
       "    .dataframe tbody tr th:only-of-type {\n",
       "        vertical-align: middle;\n",
       "    }\n",
       "\n",
       "    .dataframe tbody tr th {\n",
       "        vertical-align: top;\n",
       "    }\n",
       "\n",
       "    .dataframe thead th {\n",
       "        text-align: right;\n",
       "    }\n",
       "</style>\n",
       "<table border=\"1\" class=\"dataframe\">\n",
       "  <thead>\n",
       "    <tr style=\"text-align: right;\">\n",
       "      <th></th>\n",
       "      <th>team</th>\n",
       "      <th>funds_remaining</th>\n",
       "      <th>overseas_players_</th>\n",
       "      <th>total_players</th>\n",
       "    </tr>\n",
       "  </thead>\n",
       "  <tbody>\n",
       "    <tr>\n",
       "      <th>0</th>\n",
       "      <td>Chennai Super Kings</td>\n",
       "      <td>2,55,00,000</td>\n",
       "      <td>8</td>\n",
       "      <td>25</td>\n",
       "    </tr>\n",
       "    <tr>\n",
       "      <th>1</th>\n",
       "      <td>Delhi Capitals</td>\n",
       "      <td>2,15,00,000</td>\n",
       "      <td>8</td>\n",
       "      <td>25</td>\n",
       "    </tr>\n",
       "    <tr>\n",
       "      <th>2</th>\n",
       "      <td>Kolkata Knight Riders</td>\n",
       "      <td>3,20,00,000</td>\n",
       "      <td>8</td>\n",
       "      <td>25</td>\n",
       "    </tr>\n",
       "    <tr>\n",
       "      <th>3</th>\n",
       "      <td>Mumbai Indians</td>\n",
       "      <td>3,65,00,000</td>\n",
       "      <td>8</td>\n",
       "      <td>25</td>\n",
       "    </tr>\n",
       "    <tr>\n",
       "      <th>4</th>\n",
       "      <td>Punjab Kings</td>\n",
       "      <td>18,80,00,000</td>\n",
       "      <td>8</td>\n",
       "      <td>25</td>\n",
       "    </tr>\n",
       "  </tbody>\n",
       "</table>\n",
       "</div>"
      ],
      "text/plain": [
       "                    team funds_remaining overseas_players_ total_players\n",
       "0    Chennai Super Kings     2,55,00,000                 8            25\n",
       "1         Delhi Capitals     2,15,00,000                 8            25\n",
       "2  Kolkata Knight Riders     3,20,00,000                 8            25\n",
       "3         Mumbai Indians     3,65,00,000                 8            25\n",
       "4           Punjab Kings    18,80,00,000                 8            25"
      ]
     },
     "execution_count": 364,
     "metadata": {},
     "output_type": "execute_result"
    }
   ],
   "source": [
    "df.funds_remaining = df.funds_remaining.str.replace('₹','')\n",
    "df.head()"
   ]
  },
  {
   "cell_type": "code",
   "execution_count": 365,
   "metadata": {},
   "outputs": [],
   "source": [
    "# df.to_csv(\"C:/Users/HP/Documents/Prepinsta/Week 5/Practice/Yotube_Web_Scapping/Tata IPL Auction.csv\")"
   ]
  },
  {
   "cell_type": "code",
   "execution_count": 366,
   "metadata": {},
   "outputs": [
    {
     "data": {
      "text/html": [
       "<div>\n",
       "<style scoped>\n",
       "    .dataframe tbody tr th:only-of-type {\n",
       "        vertical-align: middle;\n",
       "    }\n",
       "\n",
       "    .dataframe tbody tr th {\n",
       "        vertical-align: top;\n",
       "    }\n",
       "\n",
       "    .dataframe thead th {\n",
       "        text-align: right;\n",
       "    }\n",
       "</style>\n",
       "<table border=\"1\" class=\"dataframe\">\n",
       "  <thead>\n",
       "    <tr style=\"text-align: right;\">\n",
       "      <th></th>\n",
       "      <th>team</th>\n",
       "      <th>funds_remaining</th>\n",
       "      <th>overseas_players_</th>\n",
       "      <th>total_players</th>\n",
       "    </tr>\n",
       "  </thead>\n",
       "  <tbody>\n",
       "    <tr>\n",
       "      <th>0</th>\n",
       "      <td>\\n\\n\\n\\n\\nChennai Super Kings\\n\\n</td>\n",
       "      <td>₹2,55,00,000</td>\n",
       "      <td>8</td>\n",
       "      <td>25</td>\n",
       "    </tr>\n",
       "    <tr>\n",
       "      <th>1</th>\n",
       "      <td>\\n\\n\\n\\n\\nDelhi Capitals\\n\\n</td>\n",
       "      <td>₹2,15,00,000</td>\n",
       "      <td>8</td>\n",
       "      <td>25</td>\n",
       "    </tr>\n",
       "    <tr>\n",
       "      <th>2</th>\n",
       "      <td>\\n\\n\\n\\n\\nKolkata Knight Riders\\n\\n</td>\n",
       "      <td>₹3,20,00,000</td>\n",
       "      <td>8</td>\n",
       "      <td>25</td>\n",
       "    </tr>\n",
       "    <tr>\n",
       "      <th>3</th>\n",
       "      <td>\\n\\n\\n\\n\\nMumbai Indians\\n\\n</td>\n",
       "      <td>₹3,65,00,000</td>\n",
       "      <td>8</td>\n",
       "      <td>25</td>\n",
       "    </tr>\n",
       "    <tr>\n",
       "      <th>4</th>\n",
       "      <td>\\n\\n\\n\\n\\nPunjab Kings\\n\\n</td>\n",
       "      <td>₹18,80,00,000</td>\n",
       "      <td>8</td>\n",
       "      <td>25</td>\n",
       "    </tr>\n",
       "  </tbody>\n",
       "</table>\n",
       "</div>"
      ],
      "text/plain": [
       "                                  team funds_remaining overseas_players_  \\\n",
       "0    \\n\\n\\n\\n\\nChennai Super Kings\\n\\n    ₹2,55,00,000                 8   \n",
       "1         \\n\\n\\n\\n\\nDelhi Capitals\\n\\n    ₹2,15,00,000                 8   \n",
       "2  \\n\\n\\n\\n\\nKolkata Knight Riders\\n\\n    ₹3,20,00,000                 8   \n",
       "3         \\n\\n\\n\\n\\nMumbai Indians\\n\\n    ₹3,65,00,000                 8   \n",
       "4           \\n\\n\\n\\n\\nPunjab Kings\\n\\n   ₹18,80,00,000                 8   \n",
       "\n",
       "  total_players  \n",
       "0            25  \n",
       "1            25  \n",
       "2            25  \n",
       "3            25  \n",
       "4            25  "
      ]
     },
     "execution_count": 366,
     "metadata": {},
     "output_type": "execute_result"
    }
   ],
   "source": [
    "# Initialize an empty list to hold rows\n",
    "rows_data = []\n",
    "\n",
    "# Iterate over each row\n",
    "for i in rows[1:]:\n",
    "    data = i.find_all(\"td\")\n",
    "    row = [j.text for j in data]\n",
    "    rows_data.append(row)\n",
    "\n",
    "# Create DataFrame from the list of rows\n",
    "try:\n",
    "    df = pd.DataFrame(rows_data,columns = titles)\n",
    "except Exception as e:\n",
    "    print(\"Error occurred while creating DataFrame:\", e)\n",
    "\n",
    "#print(df)\n",
    "df.columns = df.columns.str.lower()\n",
    "df.columns = df.columns.str.replace(' ','_')\n",
    "df.head()\n"
   ]
  },
  {
   "cell_type": "code",
   "execution_count": 367,
   "metadata": {},
   "outputs": [
    {
     "data": {
      "text/html": [
       "<div>\n",
       "<style scoped>\n",
       "    .dataframe tbody tr th:only-of-type {\n",
       "        vertical-align: middle;\n",
       "    }\n",
       "\n",
       "    .dataframe tbody tr th {\n",
       "        vertical-align: top;\n",
       "    }\n",
       "\n",
       "    .dataframe thead th {\n",
       "        text-align: right;\n",
       "    }\n",
       "</style>\n",
       "<table border=\"1\" class=\"dataframe\">\n",
       "  <thead>\n",
       "    <tr style=\"text-align: right;\">\n",
       "      <th></th>\n",
       "      <th>team</th>\n",
       "      <th>funds_remaining</th>\n",
       "      <th>overseas_players_</th>\n",
       "      <th>total_players</th>\n",
       "    </tr>\n",
       "  </thead>\n",
       "  <tbody>\n",
       "    <tr>\n",
       "      <th>0</th>\n",
       "      <td>Chennai Super Kings</td>\n",
       "      <td>₹2,55,00,000</td>\n",
       "      <td>8</td>\n",
       "      <td>25</td>\n",
       "    </tr>\n",
       "    <tr>\n",
       "      <th>1</th>\n",
       "      <td>Delhi Capitals</td>\n",
       "      <td>₹2,15,00,000</td>\n",
       "      <td>8</td>\n",
       "      <td>25</td>\n",
       "    </tr>\n",
       "    <tr>\n",
       "      <th>2</th>\n",
       "      <td>Kolkata Knight Riders</td>\n",
       "      <td>₹3,20,00,000</td>\n",
       "      <td>8</td>\n",
       "      <td>25</td>\n",
       "    </tr>\n",
       "    <tr>\n",
       "      <th>3</th>\n",
       "      <td>Mumbai Indians</td>\n",
       "      <td>₹3,65,00,000</td>\n",
       "      <td>8</td>\n",
       "      <td>25</td>\n",
       "    </tr>\n",
       "    <tr>\n",
       "      <th>4</th>\n",
       "      <td>Punjab Kings</td>\n",
       "      <td>₹18,80,00,000</td>\n",
       "      <td>8</td>\n",
       "      <td>25</td>\n",
       "    </tr>\n",
       "  </tbody>\n",
       "</table>\n",
       "</div>"
      ],
      "text/plain": [
       "                    team funds_remaining overseas_players_ total_players\n",
       "0    Chennai Super Kings    ₹2,55,00,000                 8            25\n",
       "1         Delhi Capitals    ₹2,15,00,000                 8            25\n",
       "2  Kolkata Knight Riders    ₹3,20,00,000                 8            25\n",
       "3         Mumbai Indians    ₹3,65,00,000                 8            25\n",
       "4           Punjab Kings   ₹18,80,00,000                 8            25"
      ]
     },
     "execution_count": 367,
     "metadata": {},
     "output_type": "execute_result"
    }
   ],
   "source": [
    "df.team = df.team.str.replace('\\n','')\n",
    "df.head()"
   ]
  },
  {
   "cell_type": "code",
   "execution_count": null,
   "metadata": {},
   "outputs": [],
   "source": []
  }
 ],
 "metadata": {
  "kernelspec": {
   "display_name": "base",
   "language": "python",
   "name": "python3"
  },
  "language_info": {
   "codemirror_mode": {
    "name": "ipython",
    "version": 3
   },
   "file_extension": ".py",
   "mimetype": "text/x-python",
   "name": "python",
   "nbconvert_exporter": "python",
   "pygments_lexer": "ipython3",
   "version": "3.11.5"
  }
 },
 "nbformat": 4,
 "nbformat_minor": 2
}
