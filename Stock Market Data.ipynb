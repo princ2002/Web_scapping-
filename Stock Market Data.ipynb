{
 "cells": [
  {
   "cell_type": "markdown",
   "metadata": {},
   "source": [
    "# Scraping table from website "
   ]
  },
  {
   "cell_type": "code",
   "execution_count": 1,
   "metadata": {},
   "outputs": [],
   "source": [
    "import requests \n",
    "import pandas as pd \n",
    "from bs4 import BeautifulSoup"
   ]
  },
  {
   "cell_type": "code",
   "execution_count": 2,
   "metadata": {},
   "outputs": [
    {
     "name": "stdout",
     "output_type": "stream",
     "text": [
      "200\n"
     ]
    }
   ],
   "source": [
    "url = 'https://ticker.finology.in/'\n",
    "r = requests.get(url)\n",
    "print(r.status_code)"
   ]
  },
  {
   "cell_type": "code",
   "execution_count": 3,
   "metadata": {},
   "outputs": [],
   "source": [
    "soup = BeautifulSoup(r.text,\"lxml\")"
   ]
  },
  {
   "cell_type": "code",
   "execution_count": 4,
   "metadata": {},
   "outputs": [],
   "source": [
    "table = soup.find(\"table\",class_=\"table table-sm table-hover screenertable\")\n",
    "#print(table)"
   ]
  },
  {
   "cell_type": "markdown",
   "metadata": {},
   "source": [
    "### Obtain the headers from the table  "
   ]
  },
  {
   "cell_type": "code",
   "execution_count": 5,
   "metadata": {},
   "outputs": [
    {
     "name": "stdout",
     "output_type": "stream",
     "text": [
      "[<th scope=\"col\">Company</th>, <th scope=\"col\">Price<span class=\"muted\">Rs.</span></th>, <th scope=\"col\">Day High<span class=\"muted\">Rs.</span></th>]\n"
     ]
    }
   ],
   "source": [
    "headers = table.find_all(\"th\")### th = table headers \n",
    "print(headers)\n"
   ]
  },
  {
   "cell_type": "code",
   "execution_count": 6,
   "metadata": {},
   "outputs": [
    {
     "name": "stdout",
     "output_type": "stream",
     "text": [
      "Company\n",
      "PriceRs.\n",
      "Day HighRs.\n"
     ]
    }
   ],
   "source": [
    "for i in headers:\n",
    "    print(i.text)"
   ]
  },
  {
   "cell_type": "markdown",
   "metadata": {},
   "source": [
    "## Save the header in the titles "
   ]
  },
  {
   "cell_type": "code",
   "execution_count": 7,
   "metadata": {},
   "outputs": [
    {
     "name": "stdout",
     "output_type": "stream",
     "text": [
      "['Company', 'PriceRs.', 'Day HighRs.']\n"
     ]
    }
   ],
   "source": [
    "titles = []\n",
    "\n",
    "for i in headers:\n",
    "    title = i.text\n",
    "    titles.append(title)\n",
    "    \n",
    "print(titles)"
   ]
  },
  {
   "cell_type": "code",
   "execution_count": 8,
   "metadata": {},
   "outputs": [
    {
     "name": "stdout",
     "output_type": "stream",
     "text": [
      "Empty DataFrame\n",
      "Columns: [Company, PriceRs., Day HighRs.]\n",
      "Index: []\n"
     ]
    }
   ],
   "source": [
    "df = pd.DataFrame(columns=titles)\n",
    "print(df)"
   ]
  },
  {
   "cell_type": "markdown",
   "metadata": {},
   "source": [
    "## Obtain data from table "
   ]
  },
  {
   "cell_type": "code",
   "execution_count": 9,
   "metadata": {},
   "outputs": [],
   "source": [
    "rows = table.find_all(\"tr\")\n",
    "#print(rows)"
   ]
  },
  {
   "cell_type": "code",
   "execution_count": 10,
   "metadata": {},
   "outputs": [
    {
     "name": "stdout",
     "output_type": "stream",
     "text": [
      "\n",
      "\n",
      "Larsen & Toubro\n",
      "\n",
      "3763.90\n",
      "3813.35\n",
      "\n",
      "\n",
      "\n",
      "Maruti Suzuki\n",
      "\n",
      "12600.35\n",
      "12726.80\n",
      "\n",
      "\n",
      "\n",
      "Sun Pharma Inds.\n",
      "\n",
      "1620.55\n",
      "1634.00\n",
      "\n",
      "\n",
      "\n",
      "Indus Towers\n",
      "\n",
      "291.15\n",
      "292.75\n",
      "\n",
      "\n",
      "\n",
      "Century Textile &Ind\n",
      "\n",
      "1629.90\n",
      "1684.90\n",
      "\n",
      "\n",
      "\n",
      "Adani Ports &Special\n",
      "\n",
      "1341.85\n",
      "1358.70\n",
      "\n",
      "\n",
      "\n",
      "ABB India\n",
      "\n",
      "6360.85\n",
      "6471.95\n",
      "\n",
      "\n",
      "\n",
      "Grasim Industries\n",
      "\n",
      "2287.30\n",
      "2309.20\n",
      "\n",
      "\n",
      "\n",
      "Avenue Supermarts\n",
      "\n",
      "4525.60\n",
      "4560.00\n",
      "\n",
      "\n",
      "\n",
      "Interglobe Aviation\n",
      "\n",
      "3548.65\n",
      "3573.80\n",
      "\n",
      "\n",
      "\n",
      "Info Edge\n",
      "\n",
      "5592.00\n",
      "5631.80\n",
      "\n",
      "\n",
      "\n",
      "Chalet Hotels\n",
      "\n",
      "883.30\n",
      "958.00\n",
      "\n",
      "\n",
      "\n",
      "Cummins India\n",
      "\n",
      "3006.25\n",
      "3025.00\n",
      "\n",
      "\n",
      "\n",
      "Oracle Finl. Service\n",
      "\n",
      "8774.10\n",
      "8894.00\n",
      "\n",
      "\n",
      "\n",
      "Siemens\n",
      "\n",
      "5374.05\n",
      "5405.00\n",
      "\n"
     ]
    }
   ],
   "source": [
    "for i in rows[1:] : #[1:] is used to skip the header row ## We skip 0 here bcuz we already obtain it in table head \n",
    "    print(i.text)\n",
    "## We need to store the output it in respective heads     \n"
   ]
  },
  {
   "cell_type": "code",
   "execution_count": 11,
   "metadata": {},
   "outputs": [
    {
     "name": "stdout",
     "output_type": "stream",
     "text": [
      "                     Company  PriceRs. Day HighRs.\n",
      "0        \\nLarsen & Toubro\\n   3763.90     3813.35\n",
      "1          \\nMaruti Suzuki\\n  12600.35    12726.80\n",
      "2       \\nSun Pharma Inds.\\n   1620.55     1634.00\n",
      "3           \\nIndus Towers\\n    291.15      292.75\n",
      "4   \\nCentury Textile &Ind\\n   1629.90     1684.90\n",
      "5   \\nAdani Ports &Special\\n   1341.85     1358.70\n",
      "6              \\nABB India\\n   6360.85     6471.95\n",
      "7      \\nGrasim Industries\\n   2287.30     2309.20\n",
      "8      \\nAvenue Supermarts\\n   4525.60     4560.00\n",
      "9    \\nInterglobe Aviation\\n   3548.65     3573.80\n",
      "10             \\nInfo Edge\\n   5592.00     5631.80\n",
      "11         \\nChalet Hotels\\n    883.30      958.00\n",
      "12         \\nCummins India\\n   3006.25     3025.00\n",
      "13  \\nOracle Finl. Service\\n   8774.10     8894.00\n",
      "14               \\nSiemens\\n   5374.05     5405.00\n"
     ]
    }
   ],
   "source": [
    "for i in rows[1:]:\n",
    "    data = i.find_all(\"td\")\n",
    "    #print(data)\n",
    "    row = [j.text for j in data]\n",
    "    #print(row)\n",
    "    l = len(df)\n",
    "    df.loc[l] = row\n",
    "    \n",
    "print(df)\n",
    "    "
   ]
  },
  {
   "cell_type": "code",
   "execution_count": 12,
   "metadata": {},
   "outputs": [
    {
     "name": "stdout",
     "output_type": "stream",
     "text": [
      "                     Company  PriceRs. Day HighRs.\n",
      "0        \\nLarsen & Toubro\\n   3763.90     3813.35\n",
      "1          \\nMaruti Suzuki\\n  12600.35    12726.80\n",
      "2       \\nSun Pharma Inds.\\n   1620.55     1634.00\n",
      "3           \\nIndus Towers\\n    291.15      292.75\n",
      "4   \\nCentury Textile &Ind\\n   1629.90     1684.90\n",
      "5   \\nAdani Ports &Special\\n   1341.85     1358.70\n",
      "6              \\nABB India\\n   6360.85     6471.95\n",
      "7      \\nGrasim Industries\\n   2287.30     2309.20\n",
      "8      \\nAvenue Supermarts\\n   4525.60     4560.00\n",
      "9    \\nInterglobe Aviation\\n   3548.65     3573.80\n",
      "10             \\nInfo Edge\\n   5592.00     5631.80\n",
      "11         \\nChalet Hotels\\n    883.30      958.00\n",
      "12         \\nCummins India\\n   3006.25     3025.00\n",
      "13  \\nOracle Finl. Service\\n   8774.10     8894.00\n",
      "14               \\nSiemens\\n   5374.05     5405.00\n"
     ]
    }
   ],
   "source": [
    "# Initialize an empty list to hold rows\n",
    "rows_data = []\n",
    "\n",
    "# Iterate over each row\n",
    "for i in rows[1:]:\n",
    "    data = i.find_all(\"td\")\n",
    "    row = [j.text for j in data]\n",
    "    rows_data.append(row)\n",
    "\n",
    "# Create DataFrame from the list of rows\n",
    "try:\n",
    "    df = pd.DataFrame(rows_data,columns=titles)\n",
    "except Exception as e:\n",
    "    print(\"Error occurred while creating DataFrame:\", e)\n",
    "\n",
    "print(df)\n"
   ]
  },
  {
   "cell_type": "code",
   "execution_count": 13,
   "metadata": {},
   "outputs": [
    {
     "data": {
      "text/html": [
       "<div>\n",
       "<style scoped>\n",
       "    .dataframe tbody tr th:only-of-type {\n",
       "        vertical-align: middle;\n",
       "    }\n",
       "\n",
       "    .dataframe tbody tr th {\n",
       "        vertical-align: top;\n",
       "    }\n",
       "\n",
       "    .dataframe thead th {\n",
       "        text-align: right;\n",
       "    }\n",
       "</style>\n",
       "<table border=\"1\" class=\"dataframe\">\n",
       "  <thead>\n",
       "    <tr style=\"text-align: right;\">\n",
       "      <th></th>\n",
       "      <th>Company</th>\n",
       "      <th>PriceRs.</th>\n",
       "      <th>Day HighRs.</th>\n",
       "    </tr>\n",
       "  </thead>\n",
       "  <tbody>\n",
       "    <tr>\n",
       "      <th>0</th>\n",
       "      <td>Larsen &amp; Toubro</td>\n",
       "      <td>3763.90</td>\n",
       "      <td>3813.35</td>\n",
       "    </tr>\n",
       "    <tr>\n",
       "      <th>1</th>\n",
       "      <td>Maruti Suzuki</td>\n",
       "      <td>12600.35</td>\n",
       "      <td>12726.80</td>\n",
       "    </tr>\n",
       "    <tr>\n",
       "      <th>2</th>\n",
       "      <td>Sun Pharma Inds.</td>\n",
       "      <td>1620.55</td>\n",
       "      <td>1634.00</td>\n",
       "    </tr>\n",
       "    <tr>\n",
       "      <th>3</th>\n",
       "      <td>Indus Towers</td>\n",
       "      <td>291.15</td>\n",
       "      <td>292.75</td>\n",
       "    </tr>\n",
       "    <tr>\n",
       "      <th>4</th>\n",
       "      <td>Century Textile &amp;Ind</td>\n",
       "      <td>1629.90</td>\n",
       "      <td>1684.90</td>\n",
       "    </tr>\n",
       "    <tr>\n",
       "      <th>5</th>\n",
       "      <td>Adani Ports &amp;Special</td>\n",
       "      <td>1341.85</td>\n",
       "      <td>1358.70</td>\n",
       "    </tr>\n",
       "    <tr>\n",
       "      <th>6</th>\n",
       "      <td>ABB India</td>\n",
       "      <td>6360.85</td>\n",
       "      <td>6471.95</td>\n",
       "    </tr>\n",
       "    <tr>\n",
       "      <th>7</th>\n",
       "      <td>Grasim Industries</td>\n",
       "      <td>2287.30</td>\n",
       "      <td>2309.20</td>\n",
       "    </tr>\n",
       "    <tr>\n",
       "      <th>8</th>\n",
       "      <td>Avenue Supermarts</td>\n",
       "      <td>4525.60</td>\n",
       "      <td>4560.00</td>\n",
       "    </tr>\n",
       "    <tr>\n",
       "      <th>9</th>\n",
       "      <td>Interglobe Aviation</td>\n",
       "      <td>3548.65</td>\n",
       "      <td>3573.80</td>\n",
       "    </tr>\n",
       "    <tr>\n",
       "      <th>10</th>\n",
       "      <td>Info Edge</td>\n",
       "      <td>5592.00</td>\n",
       "      <td>5631.80</td>\n",
       "    </tr>\n",
       "    <tr>\n",
       "      <th>11</th>\n",
       "      <td>Chalet Hotels</td>\n",
       "      <td>883.30</td>\n",
       "      <td>958.00</td>\n",
       "    </tr>\n",
       "    <tr>\n",
       "      <th>12</th>\n",
       "      <td>Cummins India</td>\n",
       "      <td>3006.25</td>\n",
       "      <td>3025.00</td>\n",
       "    </tr>\n",
       "    <tr>\n",
       "      <th>13</th>\n",
       "      <td>Oracle Finl. Service</td>\n",
       "      <td>8774.10</td>\n",
       "      <td>8894.00</td>\n",
       "    </tr>\n",
       "    <tr>\n",
       "      <th>14</th>\n",
       "      <td>Siemens</td>\n",
       "      <td>5374.05</td>\n",
       "      <td>5405.00</td>\n",
       "    </tr>\n",
       "  </tbody>\n",
       "</table>\n",
       "</div>"
      ],
      "text/plain": [
       "                 Company  PriceRs. Day HighRs.\n",
       "0        Larsen & Toubro   3763.90     3813.35\n",
       "1          Maruti Suzuki  12600.35    12726.80\n",
       "2       Sun Pharma Inds.   1620.55     1634.00\n",
       "3           Indus Towers    291.15      292.75\n",
       "4   Century Textile &Ind   1629.90     1684.90\n",
       "5   Adani Ports &Special   1341.85     1358.70\n",
       "6              ABB India   6360.85     6471.95\n",
       "7      Grasim Industries   2287.30     2309.20\n",
       "8      Avenue Supermarts   4525.60     4560.00\n",
       "9    Interglobe Aviation   3548.65     3573.80\n",
       "10             Info Edge   5592.00     5631.80\n",
       "11         Chalet Hotels    883.30      958.00\n",
       "12         Cummins India   3006.25     3025.00\n",
       "13  Oracle Finl. Service   8774.10     8894.00\n",
       "14               Siemens   5374.05     5405.00"
      ]
     },
     "execution_count": 13,
     "metadata": {},
     "output_type": "execute_result"
    }
   ],
   "source": [
    "df['Company'] = df.Company.str.replace('\\n','')\n",
    "df"
   ]
  },
  {
   "cell_type": "code",
   "execution_count": null,
   "metadata": {},
   "outputs": [],
   "source": []
  }
 ],
 "metadata": {
  "kernelspec": {
   "display_name": "base",
   "language": "python",
   "name": "python3"
  },
  "language_info": {
   "codemirror_mode": {
    "name": "ipython",
    "version": 3
   },
   "file_extension": ".py",
   "mimetype": "text/x-python",
   "name": "python",
   "nbconvert_exporter": "python",
   "pygments_lexer": "ipython3",
   "version": "3.11.5"
  }
 },
 "nbformat": 4,
 "nbformat_minor": 2
}
